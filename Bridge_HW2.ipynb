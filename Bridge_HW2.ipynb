{
 "cells": [
  {
   "cell_type": "markdown",
   "metadata": {},
   "source": [
    "CUNY Math with Python Bridge HW2"
   ]
  },
  {
   "cell_type": "code",
   "execution_count": 166,
   "metadata": {},
   "outputs": [],
   "source": [
    "import numpy as np\n",
    "from sympy import Poly, Symbol\n",
    "import sympy as sp\n",
    "from numpy.linalg import pinv\n",
    "from matplotlib import pyplot"
   ]
  },
  {
   "cell_type": "markdown",
   "metadata": {},
   "source": [
    "1.  Write a Python program to compute the eigenvalues and right eigenvectors of a given square array."
   ]
  },
  {
   "cell_type": "code",
   "execution_count": 64,
   "metadata": {},
   "outputs": [],
   "source": [
    "def calc_eig_val(matrix_a):\n",
    "    lamda = Symbol('lamda')\n",
    "    p = sp.Matrix(matrix_a).charpoly(lamda)\n",
    "    return np.roots(p.all_coeffs())"
   ]
  },
  {
   "cell_type": "code",
   "execution_count": 153,
   "metadata": {},
   "outputs": [],
   "source": [
    "def calc_eig_vec(eig_val,mat):\n",
    "    right = eig_val*np.eye(len(mat))\n",
    "    return np.linalg.solve(mat,right)"
   ]
  },
  {
   "cell_type": "code",
   "execution_count": 120,
   "metadata": {},
   "outputs": [
    {
     "data": {
      "text/plain": [
       "matrix([[1., 2.],\n",
       "        [4., 5.]])"
      ]
     },
     "execution_count": 120,
     "metadata": {},
     "output_type": "execute_result"
    }
   ],
   "source": [
    "#better notation convention on matrix\n",
    "z = np.matrix('1 2 3;4 5 6;5 6 7',dtype=float)\n",
    "z\n",
    "z2 = np.matrix('1 2 ;4 5',dtype=float)\n",
    "z2"
   ]
  },
  {
   "cell_type": "code",
   "execution_count": 162,
   "metadata": {},
   "outputs": [
    {
     "data": {
      "text/plain": [
       "array([13.86545993, -0.86545993,  0.        ])"
      ]
     },
     "execution_count": 162,
     "metadata": {},
     "output_type": "execute_result"
    }
   ],
   "source": [
    "eig2 = calc_eig_val(z)\n",
    "eig2"
   ]
  },
  {
   "cell_type": "code",
   "execution_count": 158,
   "metadata": {},
   "outputs": [
    {
     "data": {
      "text/plain": [
       "array([ 6.46410162, -0.46410162])"
      ]
     },
     "execution_count": 158,
     "metadata": {},
     "output_type": "execute_result"
    }
   ],
   "source": [
    "eig3 = calc_eig_val(z2)\n",
    "eig3"
   ]
  },
  {
   "cell_type": "markdown",
   "metadata": {},
   "source": [
    "I realize that my simplified eigenvector calculation is off, but I believe conceptually I am starting to understand \n",
    "how linear equations can be represented within matrices and how numpy allows you to solve for that. I need to further read about row reduction to understand why the solve in linalg is providing alternative eigenvector values although in theory the formula is setting up 𝐴𝑣= 𝜆𝐼𝑣"
   ]
  },
  {
   "cell_type": "code",
   "execution_count": 165,
   "metadata": {},
   "outputs": [
    {
     "name": "stdout",
     "output_type": "stream",
     "text": [
      "[[-10.77350269   4.30940108]\n",
      " [  8.61880215  -2.15470054]]\n",
      "[[ 0.77350269 -0.30940108]\n",
      " [-0.61880215  0.15470054]]\n"
     ]
    }
   ],
   "source": [
    "for eig in eig3:\n",
    "    print(calc_eig_vec(eig,z2))"
   ]
  },
  {
   "cell_type": "code",
   "execution_count": 161,
   "metadata": {},
   "outputs": [
    {
     "name": "stdout",
     "output_type": "stream",
     "text": [
      "[-0.46410162  6.46410162]\n",
      "[[-0.80689822 -0.34372377]\n",
      " [ 0.59069049 -0.9390708 ]]\n"
     ]
    }
   ],
   "source": [
    "z_eig_val, z_eig_vec = np.linalg.eig(z2)\n",
    "print(z_eig_val)\n",
    "print(z_eig_vec)"
   ]
  },
  {
   "cell_type": "code",
   "execution_count": 61,
   "metadata": {},
   "outputs": [
    {
     "name": "stdout",
     "output_type": "stream",
     "text": [
      "[ 1.38654599e+01 -8.65459931e-01  7.42011605e-16]\n",
      "[[ 0.26830632  0.8780304   0.40824829]\n",
      " [ 0.62003176 -0.12665002 -0.81649658]\n",
      " [ 0.73727358 -0.46154349  0.40824829]]\n"
     ]
    }
   ],
   "source": [
    "e_vals2, e_vecs2 = np.linalg.eig(z)\n",
    "print(e_vals2)\n",
    "print(e_vecs2)"
   ]
  },
  {
   "cell_type": "code",
   "execution_count": 17,
   "metadata": {},
   "outputs": [
    {
     "name": "stdout",
     "output_type": "stream",
     "text": [
      "14.470759141058467\n",
      "[[-13.47075914   2.           3.        ]\n",
      " [  4.          -9.47075914   6.        ]\n",
      " [  7.           4.          -5.47075914]]\n",
      "[Matrix([\n",
      "[1, 0, 0],\n",
      "[0, 1, 0],\n",
      "[0, 0, 1]]) (0, 1, 2)]\n",
      "[Matrix([[0]]), 1]\n"
     ]
    },
    {
     "ename": "TypeError",
     "evalue": "cannot add <class 'sympy.matrices.dense.MutableDenseMatrix'> and <class 'int'>",
     "output_type": "error",
     "traceback": [
      "\u001b[0;31m---------------------------------------------------------------------------\u001b[0m",
      "\u001b[0;31mTypeError\u001b[0m                                 Traceback (most recent call last)",
      "\u001b[0;32m<ipython-input-17-65995c68867e>\u001b[0m in \u001b[0;36m<module>\u001b[0;34m()\u001b[0m\n\u001b[1;32m     11\u001b[0m     \u001b[0mv_i\u001b[0m \u001b[0;34m=\u001b[0m \u001b[0;34m[\u001b[0m\u001b[0;34m-\u001b[0m\u001b[0ma_mod_red\u001b[0m\u001b[0;34m[\u001b[0m\u001b[0;36m0\u001b[0m\u001b[0;34m]\u001b[0m\u001b[0;34m[\u001b[0m\u001b[0;36m0\u001b[0m\u001b[0;34m:\u001b[0m\u001b[0mlen\u001b[0m\u001b[0;34m(\u001b[0m\u001b[0mA\u001b[0m\u001b[0;34m)\u001b[0m\u001b[0;34m-\u001b[0m\u001b[0;36m2\u001b[0m\u001b[0;34m,\u001b[0m\u001b[0mlen\u001b[0m\u001b[0;34m(\u001b[0m\u001b[0mA\u001b[0m\u001b[0;34m)\u001b[0m\u001b[0;34m-\u001b[0m\u001b[0;36m1\u001b[0m\u001b[0;34m]\u001b[0m\u001b[0;34m,\u001b[0m\u001b[0;36m1\u001b[0m\u001b[0;34m]\u001b[0m\u001b[0;34m\u001b[0m\u001b[0m\n\u001b[1;32m     12\u001b[0m     \u001b[0mprint\u001b[0m\u001b[0;34m(\u001b[0m\u001b[0mv_i\u001b[0m\u001b[0;34m)\u001b[0m\u001b[0;34m\u001b[0m\u001b[0m\n\u001b[0;32m---> 13\u001b[0;31m     \u001b[0mv_i_mod\u001b[0m \u001b[0;34m=\u001b[0m \u001b[0mv_i\u001b[0m\u001b[0;34m/\u001b[0m\u001b[0mnp\u001b[0m\u001b[0;34m.\u001b[0m\u001b[0mlinalg\u001b[0m\u001b[0;34m.\u001b[0m\u001b[0mnorm\u001b[0m\u001b[0;34m(\u001b[0m\u001b[0mv_i\u001b[0m\u001b[0;34m)\u001b[0m\u001b[0;34m\u001b[0m\u001b[0m\n\u001b[0m\u001b[1;32m     14\u001b[0m     \u001b[0meig_vec_manual\u001b[0m\u001b[0;34m[\u001b[0m\u001b[0;34m:\u001b[0m\u001b[0;34m,\u001b[0m\u001b[0midx\u001b[0m\u001b[0;34m]\u001b[0m \u001b[0;34m=\u001b[0m \u001b[0mv_i_mod\u001b[0m\u001b[0;34m\u001b[0m\u001b[0m\n",
      "\u001b[0;32m~/anaconda3/lib/python3.6/site-packages/numpy/linalg/linalg.py\u001b[0m in \u001b[0;36mnorm\u001b[0;34m(x, ord, axis, keepdims)\u001b[0m\n\u001b[1;32m   2254\u001b[0m                 \u001b[0msqnorm\u001b[0m \u001b[0;34m=\u001b[0m \u001b[0mdot\u001b[0m\u001b[0;34m(\u001b[0m\u001b[0mx\u001b[0m\u001b[0;34m.\u001b[0m\u001b[0mreal\u001b[0m\u001b[0;34m,\u001b[0m \u001b[0mx\u001b[0m\u001b[0;34m.\u001b[0m\u001b[0mreal\u001b[0m\u001b[0;34m)\u001b[0m \u001b[0;34m+\u001b[0m \u001b[0mdot\u001b[0m\u001b[0;34m(\u001b[0m\u001b[0mx\u001b[0m\u001b[0;34m.\u001b[0m\u001b[0mimag\u001b[0m\u001b[0;34m,\u001b[0m \u001b[0mx\u001b[0m\u001b[0;34m.\u001b[0m\u001b[0mimag\u001b[0m\u001b[0;34m)\u001b[0m\u001b[0;34m\u001b[0m\u001b[0m\n\u001b[1;32m   2255\u001b[0m             \u001b[0;32melse\u001b[0m\u001b[0;34m:\u001b[0m\u001b[0;34m\u001b[0m\u001b[0m\n\u001b[0;32m-> 2256\u001b[0;31m                 \u001b[0msqnorm\u001b[0m \u001b[0;34m=\u001b[0m \u001b[0mdot\u001b[0m\u001b[0;34m(\u001b[0m\u001b[0mx\u001b[0m\u001b[0;34m,\u001b[0m \u001b[0mx\u001b[0m\u001b[0;34m)\u001b[0m\u001b[0;34m\u001b[0m\u001b[0m\n\u001b[0m\u001b[1;32m   2257\u001b[0m             \u001b[0mret\u001b[0m \u001b[0;34m=\u001b[0m \u001b[0msqrt\u001b[0m\u001b[0;34m(\u001b[0m\u001b[0msqnorm\u001b[0m\u001b[0;34m)\u001b[0m\u001b[0;34m\u001b[0m\u001b[0m\n\u001b[1;32m   2258\u001b[0m             \u001b[0;32mif\u001b[0m \u001b[0mkeepdims\u001b[0m\u001b[0;34m:\u001b[0m\u001b[0;34m\u001b[0m\u001b[0m\n",
      "\u001b[0;32m~/anaconda3/lib/python3.6/site-packages/sympy/core/decorators.py\u001b[0m in \u001b[0;36mbinary_op_wrapper\u001b[0;34m(self, other)\u001b[0m\n\u001b[1;32m    130\u001b[0m                     \u001b[0;32melse\u001b[0m\u001b[0;34m:\u001b[0m\u001b[0;34m\u001b[0m\u001b[0m\n\u001b[1;32m    131\u001b[0m                         \u001b[0;32mreturn\u001b[0m \u001b[0mf\u001b[0m\u001b[0;34m(\u001b[0m\u001b[0mself\u001b[0m\u001b[0;34m)\u001b[0m\u001b[0;34m\u001b[0m\u001b[0m\n\u001b[0;32m--> 132\u001b[0;31m             \u001b[0;32mreturn\u001b[0m \u001b[0mfunc\u001b[0m\u001b[0;34m(\u001b[0m\u001b[0mself\u001b[0m\u001b[0;34m,\u001b[0m \u001b[0mother\u001b[0m\u001b[0;34m)\u001b[0m\u001b[0;34m\u001b[0m\u001b[0m\n\u001b[0m\u001b[1;32m    133\u001b[0m         \u001b[0;32mreturn\u001b[0m \u001b[0mbinary_op_wrapper\u001b[0m\u001b[0;34m\u001b[0m\u001b[0m\n\u001b[1;32m    134\u001b[0m     \u001b[0;32mreturn\u001b[0m \u001b[0mpriority_decorator\u001b[0m\u001b[0;34m\u001b[0m\u001b[0m\n",
      "\u001b[0;32m~/anaconda3/lib/python3.6/site-packages/sympy/matrices/common.py\u001b[0m in \u001b[0;36m__add__\u001b[0;34m(self, other)\u001b[0m\n\u001b[1;32m   1962\u001b[0m             \u001b[0;32mreturn\u001b[0m \u001b[0mMatrixArithmetic\u001b[0m\u001b[0;34m.\u001b[0m\u001b[0m_eval_add\u001b[0m\u001b[0;34m(\u001b[0m\u001b[0mself\u001b[0m\u001b[0;34m,\u001b[0m \u001b[0mother\u001b[0m\u001b[0;34m)\u001b[0m\u001b[0;34m\u001b[0m\u001b[0m\n\u001b[1;32m   1963\u001b[0m \u001b[0;34m\u001b[0m\u001b[0m\n\u001b[0;32m-> 1964\u001b[0;31m         \u001b[0;32mraise\u001b[0m \u001b[0mTypeError\u001b[0m\u001b[0;34m(\u001b[0m\u001b[0;34m'cannot add %s and %s'\u001b[0m \u001b[0;34m%\u001b[0m \u001b[0;34m(\u001b[0m\u001b[0mtype\u001b[0m\u001b[0;34m(\u001b[0m\u001b[0mself\u001b[0m\u001b[0;34m)\u001b[0m\u001b[0;34m,\u001b[0m \u001b[0mtype\u001b[0m\u001b[0;34m(\u001b[0m\u001b[0mother\u001b[0m\u001b[0;34m)\u001b[0m\u001b[0;34m)\u001b[0m\u001b[0;34m)\u001b[0m\u001b[0;34m\u001b[0m\u001b[0m\n\u001b[0m\u001b[1;32m   1965\u001b[0m \u001b[0;34m\u001b[0m\u001b[0m\n\u001b[1;32m   1966\u001b[0m     \u001b[0;34m@\u001b[0m\u001b[0mcall_highest_priority\u001b[0m\u001b[0;34m(\u001b[0m\u001b[0;34m'__rdiv__'\u001b[0m\u001b[0;34m)\u001b[0m\u001b[0;34m\u001b[0m\u001b[0m\n",
      "\u001b[0;31mTypeError\u001b[0m: cannot add <class 'sympy.matrices.dense.MutableDenseMatrix'> and <class 'int'>"
     ]
    }
   ],
   "source": [
    "#alternative testing for calculating eigenvalues; issue properly using rref formula and then properly assigning into a matrix\n",
    "#based off of a matlab tutorial that I found online\n",
    "eig_shape = (len(A),len(A))\n",
    "eig_a = np.zeros(eig_shape)\n",
    "for idx in range(0,len(A)):\n",
    "    s_i = roots_a[idx]\n",
    "    print(s_i)\n",
    "    a_mod = (A - s_i *(np.eye(len(A))))\n",
    "    print(a_mod)\n",
    "    a_mod_ref = sp.Matrix(a_mod).rref()\n",
    "    a_mod_red2 = np.array(a_mod_ref)\n",
    "    print(a_mod_red2)#a_mod_red[0],'\\n',len(A)-2)\n",
    "    v_i = [-a_mod_red[0][0:len(A)-2,len(A)-1],1]\n",
    "    print(v_i)\n",
    "    v_i_mod = v_i/np.linalg.norm(v_i)\n",
    "    eig_vec_manual[:,idx] = v_i_mod"
   ]
  },
  {
   "cell_type": "markdown",
   "metadata": {},
   "source": [
    "2.  Write a Python program to compute the factor of a given array by Singular Value Decomposition\n",
    "\n",
    "X = U · Σ · V^T\n",
    "Where A is the real m x n matrix that we wish to decompose, U is an m x m matrix, Sigma (often represented by the uppercase Greek letter Sigma) is an m x n diagonal matrix, and V^T is the  transpose of an n x n matrix where T is a superscript.\n",
    "\n",
    "The matrices U, D and V can be found by transforming A in a square matrix and by computing the eigenvectors of this square matrix. The square matrix can be obtain by multiplying the matrix A by its transpose in one way or the other:\n",
    "\n",
    "U corresponds to the eigenvectors of AAT\n",
    "V corresponds to the eigenvectors of ATA\n",
    "D corresponds to the eigenvalues AAT or ATA which are the same."
   ]
  },
  {
   "cell_type": "code",
   "execution_count": 167,
   "metadata": {},
   "outputs": [],
   "source": [
    "def manual_svd(a):\n",
    "    D, U = np.linalg.eig(a.dot(a.T))\n",
    "    _, V = np.linalg.eig(a.T.dot(a))\n",
    "    print('u: \\n',U)\n",
    "    print('d: \\n',np.sqrt(D[~np.isnan(D)]))\n",
    "    print('v: \\n',V)\n",
    "    return U,D,V"
   ]
  },
  {
   "cell_type": "code",
   "execution_count": 168,
   "metadata": {},
   "outputs": [
    {
     "name": "stdout",
     "output_type": "stream",
     "text": [
      "u: \n",
      " [[-0.83800537 -0.54566198]\n",
      " [ 0.54566198 -0.83800537]]\n",
      "d: \n",
      " [0.26506989 7.54517978]\n",
      "v: \n",
      " [[-0.95566711 -0.29444928]\n",
      " [ 0.29444928 -0.95566711]]\n",
      "\n",
      "u: [[-0.54566198 -0.83800537]\n",
      " [-0.83800537  0.54566198]] \n",
      "\n",
      "s: [7.54517978 0.26506989] \n",
      "\n",
      "vh: [[-0.29444928 -0.95566711]\n",
      " [ 0.95566711 -0.29444928]]\n"
     ]
    }
   ],
   "source": [
    "in_arr = np.asarray([[1, 4],[2, 6]])\n",
    "u_val, d_val, v_val = manual_svd(in_arr)\n",
    "U,s,Vh = np.linalg.svd(in_arr)\n",
    "print('\\nu:',U,'\\n\\ns:',s,'\\n\\nvh:',Vh)"
   ]
  },
  {
   "cell_type": "code",
   "execution_count": 169,
   "metadata": {},
   "outputs": [
    {
     "name": "stdout",
     "output_type": "stream",
     "text": [
      "u: \n",
      " [[ 4.18879369e-01  8.94427191e-01  1.56652720e-01]\n",
      " [ 3.50286130e-01 -4.26190563e-16 -9.36642743e-01]\n",
      " [ 8.37758737e-01 -4.47213595e-01  3.13305439e-01]]\n",
      "d: \n",
      " [9.83399419        nan 1.13690731]\n",
      "v: \n",
      " [[-0.95876056 -0.28421505]\n",
      " [ 0.28421505 -0.95876056]]\n"
     ]
    },
    {
     "name": "stderr",
     "output_type": "stream",
     "text": [
      "/Users/JoshForster/anaconda3/lib/python3.6/site-packages/ipykernel_launcher.py:5: RuntimeWarning: invalid value encountered in sqrt\n",
      "  \"\"\"\n"
     ]
    }
   ],
   "source": [
    "arr2 = np.asarray([[1, 4],[2, 3],[2,8]])\n",
    "d, u = np.linalg.eig(arr2.dot(arr2.T))\n",
    "_, v = np.linalg.eig(arr2.T.dot(arr2))\n",
    "print('u: \\n',u)\n",
    "print('d: \\n',np.sqrt(d[~np.isnan(d)]))\n",
    "print('v: \\n',v)"
   ]
  },
  {
   "cell_type": "code",
   "execution_count": 170,
   "metadata": {},
   "outputs": [
    {
     "name": "stdout",
     "output_type": "stream",
     "text": [
      "U: \n",
      " [[ 4.18879369e-01 -1.56652720e-01 -8.94427191e-01]\n",
      " [ 3.50286130e-01  9.36642743e-01  5.55111512e-17]\n",
      " [ 8.37758737e-01 -3.13305439e-01  4.47213595e-01]]\n",
      "s: \n",
      " [9.83399419 1.13690731]\n",
      "vh: \n",
      " [[ 0.28421505  0.95876056]\n",
      " [ 0.95876056 -0.28421505]]\n"
     ]
    }
   ],
   "source": [
    "U,s,Vh = np.linalg.svd(arr2)\n",
    "print('U: \\n',U)\n",
    "print('s: \\n',s)\n",
    "print('vh: \\n',Vh)"
   ]
  },
  {
   "cell_type": "markdown",
   "metadata": {},
   "source": [
    "3.  Write a Python program to compute the determinant of an array."
   ]
  },
  {
   "cell_type": "code",
   "execution_count": 171,
   "metadata": {},
   "outputs": [],
   "source": [
    "def calcMatMinor(mat,i,j):\n",
    "    #create 2x2 matrix to carry out simplest matrix multiplication\n",
    "    #pulls rows 1+ to return available 2,2 subsets of matrix\n",
    "        \n",
    "    return [r[:j] + r[j+1:] for r in (mat[:i]+mat[i+1:])]\n",
    "\n",
    "def calcMatDeter(mat):\n",
    "    #2x2 matrix determinant calc\n",
    "    if len(mat) == 2:\n",
    "        return mat[0][0]*mat[1][1]-mat[0][1]*mat[1][0]\n",
    "\n",
    "    determinant = 0\n",
    "    for col in range(len(mat)):\n",
    "        determinant += ((-1)**col)*mat[0][col]*calcMatDeter(calcMatMinor(mat,0,col))\n",
    "    return determinant"
   ]
  },
  {
   "cell_type": "code",
   "execution_count": 173,
   "metadata": {},
   "outputs": [
    {
     "data": {
      "text/plain": [
       "True"
      ]
     },
     "execution_count": 173,
     "metadata": {},
     "output_type": "execute_result"
    }
   ],
   "source": [
    "arr : np.array = ([[ 6, 1, 1],\n",
    "[ 4, -2, 5],\n",
    "[ 2, 8, 7]])\n",
    "det_manual = calcMatDeter(arr)\n",
    "det = np.linalg.det(arr) \n",
    "det_manual == det"
   ]
  },
  {
   "cell_type": "code",
   "execution_count": 175,
   "metadata": {},
   "outputs": [
    {
     "data": {
      "text/plain": [
       "True"
      ]
     },
     "execution_count": 175,
     "metadata": {},
     "output_type": "execute_result"
    }
   ],
   "source": [
    "t : np.array = ([(1, 2, 3,5), (4, 5, 6,2), (1, 2, 3,7), (4, 5, 6,8)])\n",
    "det_manual2 = calcMatDeter(t)\n",
    "det2 = np.linalg.det(t) \n",
    "det_manual2 == det2"
   ]
  }
 ],
 "metadata": {
  "kernelspec": {
   "display_name": "Python 3",
   "language": "python",
   "name": "python3"
  },
  "language_info": {
   "codemirror_mode": {
    "name": "ipython",
    "version": 3
   },
   "file_extension": ".py",
   "mimetype": "text/x-python",
   "name": "python",
   "nbconvert_exporter": "python",
   "pygments_lexer": "ipython3",
   "version": "3.6.4"
  }
 },
 "nbformat": 4,
 "nbformat_minor": 2
}

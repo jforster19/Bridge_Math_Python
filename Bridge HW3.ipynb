{
 "cells": [
  {
   "cell_type": "markdown",
   "metadata": {},
   "source": [
    "# HW3: Final Week"
   ]
  },
  {
   "cell_type": "markdown",
   "metadata": {},
   "source": [
    "1. The weights of steers in a herd are distributed normally.  \n",
    "The variance is 40,000 and the mean steer weight is 1300 lbs.  \n",
    "Find the probability that the weight of a randomly selected steer is greater than 979 lbs. (Round your answer to 4 decimal places)"
   ]
  },
  {
   "cell_type": "code",
   "execution_count": 155,
   "metadata": {},
   "outputs": [],
   "source": [
    "import numpy as np\n",
    "import pandas as pd\n",
    "from scipy import stats\n",
    "from IPython.display import Image\n",
    "import math"
   ]
  },
  {
   "cell_type": "code",
   "execution_count": 24,
   "metadata": {},
   "outputs": [],
   "source": [
    "def z_score(obs,mean,std):\n",
    "    return (obs-mean)/std"
   ]
  },
  {
   "cell_type": "code",
   "execution_count": 22,
   "metadata": {},
   "outputs": [
    {
     "data": {
      "text/plain": [
       "0.9458"
      ]
     },
     "execution_count": 22,
     "metadata": {},
     "output_type": "execute_result"
    }
   ],
   "source": [
    "1 - round(stats.norm(1300, np.sqrt(40000)).cdf(979),4)"
   ]
  },
  {
   "cell_type": "code",
   "execution_count": 185,
   "metadata": {},
   "outputs": [
    {
     "name": "stdout",
     "output_type": "stream",
     "text": [
      "Answer: 0.9458\n"
     ]
    }
   ],
   "source": [
    "print(f'Answer: {1-round(stats.norm.cdf(z_score(obs=979,mean=1300,std=np.sqrt(40000))),4)}')"
   ]
  },
  {
   "cell_type": "markdown",
   "metadata": {},
   "source": [
    "2. SVGA monitors manufactured by TSI Electronics have life spans that have a normal distribution\n",
    "with a variance of 1,960,000 and a mean life span of 11,000 hours.  \n",
    "If a SVGA monitor is selected at random, find the probability that the life span of the monitor\n",
    "will be more than 8340 hours. (Round your answer to 4 decimal places)"
   ]
  },
  {
   "cell_type": "code",
   "execution_count": 186,
   "metadata": {},
   "outputs": [
    {
     "data": {
      "text/plain": [
       "0.9713"
      ]
     },
     "execution_count": 186,
     "metadata": {},
     "output_type": "execute_result"
    }
   ],
   "source": [
    "1 - round(stats.norm(11000,np.sqrt(1960000)).cdf(8340),4)"
   ]
  },
  {
   "cell_type": "code",
   "execution_count": 27,
   "metadata": {},
   "outputs": [
    {
     "data": {
      "text/plain": [
       "0.9713"
      ]
     },
     "execution_count": 27,
     "metadata": {},
     "output_type": "execute_result"
    }
   ],
   "source": [
    "print(f'Answer: {1-round(stats.norm.cdf(z_score(obs=8340,mean=11000,std=np.sqrt(1960000))),4)}')"
   ]
  },
  {
   "cell_type": "markdown",
   "metadata": {},
   "source": [
    "3. Suppose the mean income of firms in the industry for a year is 80 million dollars\n",
    "with a standard deviation of 3 million dollars.  If incomes for the industry are \n",
    "distributed normally, what is the probability that a randomly selected firm will \n",
    "earn between 83 and 85 million dollars? (Round your answer to 4 decimal places)"
   ]
  },
  {
   "cell_type": "code",
   "execution_count": 187,
   "metadata": {},
   "outputs": [
    {
     "name": "stdout",
     "output_type": "stream",
     "text": [
      "Answer: 0.1109\n"
     ]
    }
   ],
   "source": [
    "print(f'Answer: {round(stats.norm.cdf(z_score(obs=85,mean=80,std=3))-stats.norm.cdf(z_score(obs=83,mean=80,std=3)),4)}')"
   ]
  },
  {
   "cell_type": "markdown",
   "metadata": {},
   "source": [
    "4. Suppose GRE Verbal scores are normally distributed with a mean of 456 \n",
    "and a standard deviation of 123.  A university plans to offer tutoring jobs\n",
    "to students whose scores are in the top 14%.  \n",
    "What is the minimum score required for the job offer?  \n",
    "Round your answer to the nearest whole number, if necessary."
   ]
  },
  {
   "cell_type": "code",
   "execution_count": 188,
   "metadata": {},
   "outputs": [
    {
     "name": "stdout",
     "output_type": "stream",
     "text": [
      "Answer: 589.0\n"
     ]
    }
   ],
   "source": [
    "print(f'Answer: {round(stats.norm.ppf(1-0.14)*123+456)}')"
   ]
  },
  {
   "cell_type": "code",
   "execution_count": 38,
   "metadata": {},
   "outputs": [
    {
     "data": {
      "text/plain": [
       "0.14"
      ]
     },
     "execution_count": 38,
     "metadata": {},
     "output_type": "execute_result"
    }
   ],
   "source": [
    "#validation\n",
    "round(1-stats.norm.cdf(z_score(obs=589,mean=456,std=123)),2)"
   ]
  },
  {
   "cell_type": "markdown",
   "metadata": {},
   "source": [
    "5. The lengths of nails produced in a factory are normally distributed with a mean\n",
    "of 6.13 centimeters and a standard deviation of 0.06 centimeters.  \n",
    "Find the two lengths that separate the top 7% and the bottom 7%.  \n",
    "These lengths could serve as limits used to identify which nails should be rejected.  \n",
    "Round your answer to the nearest hundredth, if necessary."
   ]
  },
  {
   "cell_type": "code",
   "execution_count": 190,
   "metadata": {},
   "outputs": [
    {
     "name": "stdout",
     "output_type": "stream",
     "text": [
      "Bottom Length: 6.04; Top Length: 6.22\n"
     ]
    }
   ],
   "source": [
    "top = round(stats.norm.ppf(1-0.07)*0.06+6.13,2)\n",
    "bottom = round(stats.norm.ppf(0.07)*0.06+6.13,2)\n",
    "margin_error = stats.norm.ppf(1-0.07)*(0.06/np.sqrt(10000)) # assuming 10000 nails produced\n",
    "print(f'Bottom Length: {bottom}; Top Length: {top}')"
   ]
  },
  {
   "cell_type": "code",
   "execution_count": 50,
   "metadata": {},
   "outputs": [
    {
     "data": {
      "text/plain": [
       "True"
      ]
     },
     "execution_count": 50,
     "metadata": {},
     "output_type": "execute_result"
    }
   ],
   "source": [
    "round(z_score(obs=stats.norm.ppf(1-0.07)*0.06+6.13,mean=6.13,std=0.06),4)==round(stats.norm.ppf(1-0.07),4)"
   ]
  },
  {
   "attachments": {},
   "cell_type": "markdown",
   "metadata": {},
   "source": [
    "6. An English professor assigns letter grades on a test according to the following scheme.\n",
    "\tA:  Top 13% of scores\n",
    "\tB:  Scores below the top 13% and above the bottom 55%\n",
    "\tC:  Scores below the top 45% and above the bottom 20%\n",
    "\tD:  Scores below the top 80% and above the bottom 9%\n",
    "\tF:  Bottom 9% of scores\n",
    "\tScores on the test are normally distributed with a mean of 78.8 and a standard deviation of 9.8.  Find the numerical limits for a C grade.  Round your answers to the nearest whole number, if necessary."
   ]
  },
  {
   "cell_type": "code",
   "execution_count": 191,
   "metadata": {},
   "outputs": [
    {
     "name": "stdout",
     "output_type": "stream",
     "text": [
      "Top of C Score Range: 80.0 and bottom of C score range: 71.0\n"
     ]
    }
   ],
   "source": [
    "c_top = round(stats.norm.ppf(1-0.45)*9.8+78.8)\n",
    "c_bottom = round(stats.norm.ppf(0.2)*9.8+78.8)\n",
    "print(f'Top of C Score Range: {c_top} and bottom of C score range: {c_bottom}')"
   ]
  },
  {
   "attachments": {},
   "cell_type": "markdown",
   "metadata": {},
   "source": [
    "7. Suppose ACT Composite scores are normally distributed with a mean of 21.2 and a standard deviation of 5.4.  A university plans to admit students whose scores are in the top 45%.  What is the minimum score required for admission?  Round your answer to the nearest tenth, if necessary."
   ]
  },
  {
   "cell_type": "code",
   "execution_count": 193,
   "metadata": {},
   "outputs": [
    {
     "name": "stdout",
     "output_type": "stream",
     "text": [
      "Answer: 21.9\n"
     ]
    }
   ],
   "source": [
    "print(f'Answer: {round(stats.norm.ppf(1-0.45)*5.4+21.2,1)}')"
   ]
  },
  {
   "cell_type": "markdown",
   "metadata": {},
   "source": [
    "8. Consider the probability that less than 11 out of 151 students will not graduate on time.  \n",
    "Assume the probability that a given student will not graduate on time is 9%.  \n",
    "Approximate the probability using the normal distribution. (Round your answer to 4 decimal places.)"
   ]
  },
  {
   "cell_type": "code",
   "execution_count": 194,
   "metadata": {},
   "outputs": [
    {
     "data": {
      "text/plain": [
       "'Answer: 0.2307'"
      ]
     },
     "execution_count": 194,
     "metadata": {},
     "output_type": "execute_result"
    }
   ],
   "source": [
    "binom_std = np.sqrt(151 * 0.09 * (1-0.09))\n",
    "ans = round(stats.norm.cdf(z_score(obs=11,mean=151*.09,std=binom_std)),4)\n",
    "f'Answer: {ans}' "
   ]
  },
  {
   "cell_type": "markdown",
   "metadata": {},
   "source": [
    "9. \tThe mean lifetime of a tire is 48 months with a standard deviation of 7.  If 147 tires are sampled, what is the probability that the mean of the sample would be greater than 48.83 months? (Round your answer to 4 decimal places)\n"
   ]
  },
  {
   "cell_type": "code",
   "execution_count": 195,
   "metadata": {},
   "outputs": [
    {
     "name": "stdout",
     "output_type": "stream",
     "text": [
      "Answer: 0.0753\n"
     ]
    }
   ],
   "source": [
    "print(f'Answer: {round(1-stats.norm.cdf(z_score(obs=48.83,mean=48,std=7/np.sqrt(147))),4)}')"
   ]
  },
  {
   "cell_type": "markdown",
   "metadata": {},
   "source": [
    "10. \tThe quality control manager at a computer manufacturing company believes that the mean life of a computer is 91 months, with a standard deviation of 10.  If he is correct, what is the probability that the mean of a sample of 68 computers would be greater than 93.54 months? (Round your answer to 4 decimal places)\n"
   ]
  },
  {
   "cell_type": "code",
   "execution_count": 95,
   "metadata": {},
   "outputs": [
    {
     "name": "stdout",
     "output_type": "stream",
     "text": [
      "Answer: 0.0181\n"
     ]
    }
   ],
   "source": [
    "print(f'Answer: {round(1-stats.norm.cdf(z_score(obs=93.54,mean=91,std=10/np.sqrt(68))),4)}')"
   ]
  },
  {
   "cell_type": "markdown",
   "metadata": {},
   "source": [
    "11. A director of reservations believes that 7% of the ticketed passengers are no-shows.  If the director is right, what is the probability that the proportion of no-shows in a sample of 540 ticketed passengers would differ from the population proportion by less than 3%? (Round your answer to 4 decimal places)"
   ]
  },
  {
   "cell_type": "code",
   "execution_count": 110,
   "metadata": {},
   "outputs": [
    {
     "name": "stdout",
     "output_type": "stream",
     "text": [
      "Answer: 0.9937\n"
     ]
    }
   ],
   "source": [
    "res_mean = 0.07\n",
    "res_std = np.sqrt(res_mean*(1-res_mean)/540)\n",
    "\n",
    "bot_upper = stats.norm.cdf(z_score(obs=0.1,mean=res_mean,std=res_std))\n",
    "rbot_lower = stats.norm.cdf(z_score(obs=0.04,mean=res_mean,std=res_std))\n",
    "\n",
    "print(f'Answer: {round(res_upper - res_lower,4)}')"
   ]
  },
  {
   "attachments": {},
   "cell_type": "markdown",
   "metadata": {},
   "source": [
    "12. A bottle maker believes that 23% of his bottles are defective.  If the bottle maker is accurate, what is the probability that the proportion of defective bottles in a sample of 602 bottles would differ from the population proportion by greater than 4%? (Round your answer to 4 decimal places)\n"
   ]
  },
  {
   "cell_type": "code",
   "execution_count": 112,
   "metadata": {},
   "outputs": [
    {
     "name": "stdout",
     "output_type": "stream",
     "text": [
      "Answer: 0.0197\n"
     ]
    }
   ],
   "source": [
    "bot_m = 0.23\n",
    "bot_std = np.sqrt(bot_m*(1-bot_m)/602)\n",
    "\n",
    "bot_upper = 1- stats.norm.cdf(z_score(obs=bot_m+0.04,mean=bot_m,std=bot_std))\n",
    "bot_lower = stats.norm.cdf(z_score(obs=bot_m-0.04,mean=bot_m,std=bot_std))\n",
    "\n",
    "print(f'Answer: {round(bot_upper + bot_lower,4)}')"
   ]
  },
  {
   "cell_type": "markdown",
   "metadata": {},
   "source": [
    "13. A research company desires to know the mean consumption of beef per week among males over age 48.  Suppose a sample of size 208 is drawn with x ̅  = 3.9.  Assume ® = 0.8 .  Construct the 80% confidence interval for the mean number of lb. of beef per week among males over 48. (Round your answers to 1 decimal place) "
   ]
  },
  {
   "cell_type": "code",
   "execution_count": 117,
   "metadata": {},
   "outputs": [
    {
     "name": "stdout",
     "output_type": "stream",
     "text": [
      "Upper bound: 4.0\n",
      "Lower Bound: 3.8\n"
     ]
    }
   ],
   "source": [
    "\n",
    "beef_sample = 208\n",
    "beef_mean = 3.9\n",
    "beef_std = 0.8\n",
    "8\n",
    "\n",
    "beef_t = stats.t.ppf(01,208-1)\n",
    "beef_std_err = beef_std/np.sqrt(208)\n",
    "\n",
    "\n",
    "print(f'Upper bound: {round(beef_mean - beef_t*beef_std_err,1)}')\n",
    "print(f'Lower Bound: {round(beef_mean + beef_t*beef_std_err,1)}')"
   ]
  },
  {
   "attachments": {},
   "cell_type": "markdown",
   "metadata": {},
   "source": [
    "14. An economist wants to estimate the mean per capita income (in thousands of dollars) in a major city in California.  Suppose a sample of size 7472 is drawn with x ̅  = 16.6.  Assume ® = 11 .  Construct the 98% confidence interval for the mean per capita income. (Round your answers to 1 decimal place) "
   ]
  },
  {
   "cell_type": "code",
   "execution_count": 120,
   "metadata": {},
   "outputs": [
    {
     "name": "stdout",
     "output_type": "stream",
     "text": [
      "Upper bound: 16.9\n",
      "Lower Bound: 16.3\n"
     ]
    }
   ],
   "source": [
    "cap_sample = 7472\n",
    "cap_mean = 16.6\n",
    "cap_std = 11\n",
    "cap_t = stats.t.ppf((1-0.98)/2,cap_sample-1)\n",
    "cap_std_err = cap_std/np.sqrt(cap_sample)\n",
    "\n",
    "\n",
    "print(f'Upper bound: {round(cap_mean - cap_t*cap_std_err,1)}')\n",
    "print(f'Lower Bound: {round(cap_mean + cap_t*cap_std_err,1)}')"
   ]
  },
  {
   "cell_type": "markdown",
   "metadata": {},
   "source": [
    "15. Find the value of t such that 0.05 of the area under the curve is to the left of t.  Assume the degrees of freedom equals 26.\n",
    "\n",
    "Step 1. Choose the picture which best describes the problem."
   ]
  },
  {
   "cell_type": "code",
   "execution_count": 126,
   "metadata": {},
   "outputs": [
    {
     "name": "stdout",
     "output_type": "stream",
     "text": [
      "Answer: -1.7056179197592731 which is the top right image\n"
     ]
    }
   ],
   "source": [
    "t_stat = stats.t.ppf(0.05,26)\n",
    "print(f'Answer: {t_stat} which is the top right image')"
   ]
  },
  {
   "attachments": {
    "t_stat_hw.png": {
     "image/png": "[encoded data removed]"
    }
   },
   "cell_type": "markdown",
   "metadata": {},
   "source": [
    "![t_stat_hw.png](attachment:t_stat_hw.png)"
   ]
  },
  {
   "attachments": {},
   "cell_type": "markdown",
   "metadata": {},
   "source": [
    "16. The following measurements ( in picocuries per liter ) were recorded by a set of helium gas detectors installed in a laboratory facility:  \n",
    "\t                                             383.6, 347.1, 371.9, 347.6, 325.8, 337\n",
    "\tUsing these measurements, construct a 90% confidence interval for the mean level of helium gas present in the facility.  Assume the population is normally distributed.  \n",
    "\n",
    "Step 1. Calculate the sample mean for the given sample data. (Round answer to 2 decimal places) \n",
    "\n",
    "\n",
    "Step 2. Calculate the sample standard deviation for the given sample data. (Round answer to 2 decimal places) \n",
    "\n",
    "\n",
    "Step 3. Find the critical value that should be used in constructing the confidence interval. (Round answer to 3 decimal places) \n",
    "\n",
    "\n",
    "Step 4. Construct the 90% confidence interval. (Round answer to 2 decimal places)"
   ]
  },
  {
   "cell_type": "code",
   "execution_count": 143,
   "metadata": {},
   "outputs": [
    {
     "name": "stdout",
     "output_type": "stream",
     "text": [
      "Step 1: Sample Mean: 352.17\n",
      "Step 2: Sample Std: 21.68\n",
      "Step 3: T Critical Value: -2.015\n",
      "Step 4: 90% Confidence Interval: (334.34,370.0)\n"
     ]
    },
    {
     "data": {
      "text/plain": [
       "(334.3385739289317, 370.00142607106835)"
      ]
     },
     "execution_count": 143,
     "metadata": {},
     "output_type": "execute_result"
    }
   ],
   "source": [
    "gas = [383.6, 347.1, 371.9, 347.6, 325.8, 337]\n",
    "gas_mean = round(sum(gas)/len(gas),2)\n",
    "print(f'Step 1: Sample Mean: {gas_mean}')\n",
    "gas_samp_std = round(np.sqrt(sum([(obv-gas_mean)**2 for obv in gas])/(len(gas)-1)),2)\n",
    "print(f'Step 2: Sample Std: {gas_samp_std}')\n",
    "gas_t_stat = round(stats.t.ppf((1-0.90)/2,len(gas)-1),3)\n",
    "print(f'Step 3: T Critical Value: {gas_t_stat}')\n",
    "gas_upper = round(gas_mean-gas_t_stat*gas_samp_std/np.sqrt(len(gas)),2)\n",
    "gas_lower = round(gas_mean+gas_t_stat*gas_samp_std/np.sqrt(len(gas)),2)\n",
    "print(f'Step 4: 90% Confidence Interval: ({gas_lower},{gas_upper})')\n",
    "stats.t.interval(alpha=0.90, df=len(gas)-1, loc=gas_mean, scale=stats.sem(gas))"
   ]
  },
  {
   "attachments": {},
   "cell_type": "markdown",
   "metadata": {},
   "source": [
    "17. A random sample of 16 fields of spring wheat has a mean yield of 46.4 bushels per acre and standard deviation of 2.45 bushels per acre.  Determine the 80% confidence interval for the true mean yield.  Assume the population is normally distributed.  \n",
    "\n",
    "Step 1. Find the critical value that should be used in constructing the confidence interval. (Round answer to 3 decimal places) \n",
    "Step 2. Construct the 80% confidence interval. (Round answer to 1 decimal place)"
   ]
  },
  {
   "cell_type": "code",
   "execution_count": 149,
   "metadata": {},
   "outputs": [
    {
     "name": "stdout",
     "output_type": "stream",
     "text": [
      "Step 1: Critical Value of Sample: -1.341\n",
      "Step 2: 80% Confidence Interval: (45.6,47.2)\n"
     ]
    },
    {
     "data": {
      "text/plain": [
       "(45.57887906519159, 47.221120934808404)"
      ]
     },
     "execution_count": 149,
     "metadata": {},
     "output_type": "execute_result"
    }
   ],
   "source": [
    "wheat_t_stat = round(stats.t.ppf((1-0.8)/2,15),3)\n",
    "print(f'Step 1: Critical Value of Sample: {wheat_t_stat}')\n",
    "\n",
    "wheat_upper = round(46.4-wheat_t_stat*2.45/np.sqrt(16),1)\n",
    "wheat_lower = round(46.4+wheat_t_stat*2.45/np.sqrt(16),1)\n",
    "\n",
    "print(f'Step 2: 80% Confidence Interval: ({wheat_lower},{wheat_upper})')\n",
    "stats.t.interval(alpha=0.80, df=15, loc=46.4, scale=2.45/np.sqrt(16))"
   ]
  },
  {
   "cell_type": "markdown",
   "metadata": {},
   "source": [
    "18. \tA toy manufacturer wants to know how many new toys children buy each year.  She thinks the mean is 8 toys per year.  Assume a previous study found the standard deviation to be 1.9.  How large of a sample would be required in order to estimate the mean number of toys bought per child at the 99% confidence level with an error of at most 0.13 toys? (Round your answer up to the next integer)"
   ]
  },
  {
   "cell_type": "code",
   "execution_count": 196,
   "metadata": {},
   "outputs": [
    {
     "name": "stdout",
     "output_type": "stream",
     "text": [
      "Sample size: 1418\n"
     ]
    }
   ],
   "source": [
    "score = stats.norm.ppf((1-0.99)/2)\n",
    "min_n = (score*1.9/0.13)**2\n",
    "print(f'Sample size: {math.ceil(min_n)}')"
   ]
  },
  {
   "cell_type": "markdown",
   "metadata": {},
   "source": [
    "19. \tA research scientist wants to know how many times per hour a certain strand of bacteria reproduces.  He believes that the mean is 12.6.  Assume the variance is known to be 3.61.  How large of a sample would be required in order to estimate the mean number of reproductions per hour at the 95% confidence level with an error of at most 0.19 reproductions? (Round your answer up to the next integer)"
   ]
  },
  {
   "cell_type": "code",
   "execution_count": 162,
   "metadata": {},
   "outputs": [
    {
     "name": "stdout",
     "output_type": "stream",
     "text": [
      "Sample size: 385\n"
     ]
    }
   ],
   "source": [
    "score_est = stats.norm.ppf((1-0.95)/2)\n",
    "min_n = (score_est*np.sqrt(3.61)/0.19)**2\n",
    "print(f'Sample size: {math.ceil(min_n)}')"
   ]
  },
  {
   "cell_type": "markdown",
   "metadata": {},
   "source": [
    "20. \tThe state education commission wants to estimate the fraction of tenth grade students that have reading skills at or below the eighth grade level.\n",
    "\n",
    "Step 1. Suppose a sample of 2089 tenth graders is drawn. Of the students sampled, 1734 read above the eighth grade level.  Using the data, estimate the proportion of tenth graders reading at or below the eighth grade level. (Write your answer as a fraction or a decimal number rounded to 3 decimal places) \n",
    "\n",
    "\n",
    "Step 2. Suppose a sample of 2089 tenth graders is drawn.  Of the students sampled, 1734 read above the eighth grade level.  Using the data, construct the 98% confidence interval for the population proportion of tenth graders reading at or below the eighth grade level. (Round your answers to 3 decimal places)\n"
   ]
  },
  {
   "cell_type": "code",
   "execution_count": 183,
   "metadata": {},
   "outputs": [
    {
     "name": "stdout",
     "output_type": "stream",
     "text": [
      "Step 1: 0.17\n",
      "Step 2 Confidence Interval: (0.151,0.189)\n"
     ]
    }
   ],
   "source": [
    "prop = round((2089-1734)/2089,3)\n",
    "print(f'Step 1: {prop}')\n",
    "sd_prop = np.sqrt((prop)*(1-prop)/2089)\n",
    "prop_upper = round(prop - stats.norm.ppf((1-0.98)/2)*sd_prop,3)\n",
    "prop_lower = round(prop + stats.norm.ppf((1-0.98)/2)*sd_prop,3)\n",
    "print(f'Step 2 Confidence Interval: ({prop_lower},{prop_upper})')"
   ]
  },
  {
   "cell_type": "markdown",
   "metadata": {},
   "source": [
    "21. \tAn environmentalist wants to find out the fraction of oil tankers that have spills each month.\n",
    "\n",
    "Step 1. Suppose a sample of 474 tankers is drawn.  Of these ships, 156 had spills.  Using the data, estimate the proportion of oil tankers that had spills. (Write your answer as a fraction or a decimal number rounded to 3 decimal places) \n",
    "\n",
    "Step 2. Suppose a sample of 474 tankers is drawn.  Of these ships, 156 had spills.  Using the data, construct the 95% confidence interval for the population proportion of oil tankers that have spills each month. (Round your answers to 3 decimal places)"
   ]
  },
  {
   "cell_type": "code",
   "execution_count": 184,
   "metadata": {},
   "outputs": [
    {
     "name": "stdout",
     "output_type": "stream",
     "text": [
      "Step 1: 0.329\n",
      "Step 2 Confidence Interval: (0.287,0.371)\n"
     ]
    }
   ],
   "source": [
    "ship_prop = round((156)/474,3)\n",
    "print(f'Step 1: {ship_prop}')\n",
    "sd_sprop = np.sqrt((ship_prop)*(1-ship_prop)/474)\n",
    "sprop_upper = round(ship_prop - stats.norm.ppf((1-0.95)/2)*sd_sprop,3)\n",
    "sprop_lower = round(ship_prop + stats.norm.ppf((1-0.95)/2)*sd_sprop,3)\n",
    "print(f'Step 2 Confidence Interval: ({sprop_lower},{sprop_upper})')"
   ]
  }
 ],
 "metadata": {
  "kernelspec": {
   "display_name": "Python 3",
   "language": "python",
   "name": "python3"
  },
  "language_info": {
   "codemirror_mode": {
    "name": "ipython",
    "version": 3
   },
   "file_extension": ".py",
   "mimetype": "text/x-python",
   "name": "python",
   "nbconvert_exporter": "python",
   "pygments_lexer": "ipython3",
   "version": "3.6.4"
  }
 },
 "nbformat": 4,
 "nbformat_minor": 2
}
